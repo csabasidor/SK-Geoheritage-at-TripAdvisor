{
 "cells": [
  {
   "cell_type": "code",
   "execution_count": 1,
   "id": "a8520f3d",
   "metadata": {},
   "outputs": [
    {
     "name": "stdout",
     "output_type": "stream",
     "text": [
      "DB connecting engine imported\n"
     ]
    }
   ],
   "source": [
    "from sys import path\n",
    "path.append('..//modules')\n",
    "import psycopg2 as pg\n",
    "from geoalchemy2 import Geometry, WKTElement\n",
    "from sqlalchemy import create_engine, MetaData, Table\n",
    "import pandas.io.sql as psql\n",
    "import pandas as pd\n",
    "import time\n",
    "#create a postgres engine and a pg connection\n",
    "from modules.db_connector import *\n",
    "print(\"DB connecting engine imported\")"
   ]
  },
  {
   "cell_type": "code",
   "execution_count": 1,
   "id": "ef07c3f0",
   "metadata": {},
   "outputs": [],
   "source": [
    "l_dct = [\n",
    "{\"layer_name\": \"chranene_objekty:chranene_uzemia_mchu\", \"service\": \"https://www.sopsr.sk/geoserver/chranene_objekty/ows?\", \"db_table\": \"sk_mchu_sps_sopsr\"},\n",
    "{\"layer_name\": \"chranene_objekty:chranene_uzemia_vchu\", \"service\": \"https://www.sopsr.sk/geoserver/chranene_objekty/ows?\", \"db_table\": \"sk_vchu_lps_sopsr\"}, \n",
    "{\"layer_name\": \"sz:chranene_uzemia_np_s_op\", \"service\": \"https://www.sopsr.sk/geoserver/sz/ows?\", \"db_table\": \"sk_np_w_pz_sopsr\"},\n",
    "{\"layer_name\": \"chranene_objekty:chranene_uzemia_biosfericke_rezervacie\", \"service\": \"https://www.sopsr.sk/geoserver/chranene_objekty/ows?\", \"db_table\": \"sk_br_sopsr\"},\n",
    "{\"layer_name\": \"chranene_objekty:chranene_uzemia_uev\", \"service\": \"https://www.sopsr.sk/geoserver/chranene_objekty/ows?\", \"db_table\": \"sk_uev_teui_sopsr\"},\n",
    "{\"layer_name\": \"chranene_objekty:chranene_uzemia_chvu\", \"service\": \"https://www.sopsr.sk/geoserver/chranene_objekty/ows?\", \"db_table\": \"sk_chvu_bpa_sopsr\"}\n",
    "]\n"
   ]
  },
  {
   "cell_type": "code",
   "execution_count": 18,
   "id": "588cf435",
   "metadata": {},
   "outputs": [
    {
     "name": "stdout",
     "output_type": "stream",
     "text": [
      "Module call_wfs imported\n",
      "Making call to WFS:  chranene_objekty:chranene_uzemia_mchu\n",
      "1160\n",
      "gpdf_gku chranene_objekty:chranene_uzemia_mchu retrieved in :  25.75  seconds.\n",
      "chranene_objekty:chranene_uzemia_mchu loaded in db under name sk_mchu_sps_sopsr in:  26.38  seconds.\n"
     ]
    }
   ],
   "source": [
    "#import Sal(2023) module for calling WFS to gpdf\n",
    "from modules import call_wfs\n",
    "print(\"Module call_wfs imported\")\n",
    "\n",
    "start = time.time()\n",
    "for dct in l_dct:\n",
    "    print(\"Making call to WFS: \", dct[\"layer_name\"])\n",
    "    #extract layer from WFS and transform to a gpdf containing all SK municipalities (it takes about 2 minutes)\n",
    "    gpdf_gku = call_wfs.wfs2gp_df(dct[\"layer_name\"], dct[\"service\"])\n",
    "    print(\"gpdf_gku \"+ dct[\"layer_name\"] +\" retrieved in : \", round(time.time() - start, 2), \" seconds.\")\n",
    "\n",
    "    #load the created gpdf in to postgis db\n",
    "    gpdf_gku.to_postgis(dct[\"db_table\"], engine, schema = 'gtlab', if_exists='replace', index=False, \n",
    "                   dtype={'geom': Geometry(geometry_type='MultiPolygon', srid= '5514')})\n",
    "    print(dct[\"layer_name\"] + \" loaded in db under name \" + dct[\"db_table\"] + \" in: \", round(time.time() - start, 2), \" seconds.\")"
   ]
  },
  {
   "cell_type": "code",
   "execution_count": 30,
   "id": "92e5bf73",
   "metadata": {},
   "outputs": [],
   "source": [
    "l_alter_stmts = ['ALTER TABLE gtlab.sk_mchu_sps_sopsr RENAME COLUMN \"geometry\" to geom;', \n",
    "'ALTER TABLE gtlab.sk_vchu_lps_sopsr RENAME COLUMN \"geometry\" to geom;',\n",
    "'ALTER TABLE gtlab.sk_np_w_pz_sopsr RENAME COLUMN \"geometry\" to geom;',\n",
    "'ALTER TABLE gtlab.sk_br_sopsr RENAME COLUMN \"geometry\" to geom;',\n",
    "'ALTER TABLE gtlab.sk_uev_teui_sopsr RENAME COLUMN \"geometry\" to geom;',\n",
    "'ALTER TABLE gtlab.sk_chvu_bpa_sopsr RENAME COLUMN \"geometry\" to geom;']\n",
    "\n",
    "for stmt in l_alter_stmts:\n",
    "    with engine.connect() as con1:\n",
    "        con1.execute(text(stmt))\n",
    "        con1.commit()\n",
    "        con1.close()\n",
    "\n",
    "\n",
    "\n",
    "l_updt_stmts = [\"SELECT UpdateGeometrySRID('gtlab','sk_mchu_sps_sopsr', 'geom', 5514);\",\n",
    "\"SELECT UpdateGeometrySRID('gtlab','sk_vchu_lps_sopsr', 'geom', 5514);\",\n",
    "\"SELECT UpdateGeometrySRID('gtlab','sk_np_w_pz_sopsr', 'geom', 5514);\",\n",
    "\"SELECT UpdateGeometrySRID('gtlab','sk_br_sopsr', 'geom', 5514);\",\n",
    "\"SELECT UpdateGeometrySRID('gtlab','sk_uev_teui_sopsr', 'geom', 5514);\",\n",
    "\"SELECT UpdateGeometrySRID('gtlab','sk_chvu_bpa_sopsr', 'geom', 5514);\"]\n",
    "\n",
    "for stmt in l_updt_stmts:\n",
    "    with engine.connect() as con1:\n",
    "        con1.execute(text(stmt))\n",
    "        con1.commit()\n",
    "        con1.close()"
   ]
  },
  {
   "cell_type": "code",
   "execution_count": 3,
   "id": "67370117",
   "metadata": {},
   "outputs": [],
   "source": [
    "list_alter_stmts = [\"ALTER TABLE gtlab.sk_sgs_vgl_sguds ADD COLUMN nmskbnm_prob numeric;\"]\n",
    "                    #gml_id_cat7_sk_mchu_sps_sopsr text\"]\n",
    "                    \n",
    "                    #ADD COLUMN category_name_sk_mchu_sps_sopsr_by_name text, ADD COLUMN siteid_sk_mchu_sps_sopsr_by_name text, add column name_sk_mchu_sps_sopsr_by_name text;\"]\n",
    "                    \n",
    "                    #ADD COLUMN siteid_cat8_sk_vchu_lps_sopsr text, ADD COLUMN siteid_cat9_sk_vchu_lps_sopsr text, ADD COLUMN siteid_cat10_sk_vchu_lps_sopsr text;\"]\n",
    "                    \n",
    "                    \n",
    "                    #ADD COLUMN gml_id_cat1_sk_mchu_sps_sopsr text, ADD COLUMN gml_id_cat2_sk_mchu_sps_sopsr text, ADD COLUMN gml_id_cat3_sk_mchu_sps_sopsr text, ADD COLUMN gml_id_cat4_sk_mchu_sps_sopsr text, ADD COLUMN gml_id_cat5_sk_mchu_sps_sopsr text, ADD COLUMN gml_id_cat6_sk_mchu_sps_sopsr text ;\"] \n",
    "                    \n",
    "                    #add column gml_id_sk_np_w_pz_sopsr text, add column siteid_sk_uev_teui_sopsr text, add column siteid_sk_chvu_bpa_sopsr text;\"]\n",
    "\n",
    "for stmt in list_alter_stmts:\n",
    "    with engine.connect() as con1:\n",
    "        con1.execute(text(stmt))\n",
    "        con1.commit()\n",
    "        con1.close()"
   ]
  },
  {
   "cell_type": "code",
   "execution_count": 3,
   "id": "e3827b6a",
   "metadata": {},
   "outputs": [],
   "source": [
    "with engine.connect() as con1:\n",
    "    q1 = \"select * from gtlab.sk_sgs_vgl_sguds order by id\"\n",
    "    q2 = \"\"\"\n",
    "        select gml_id, \"SITETITLE_SK\", \"SITETITLE_EN\" nm_en, \"CATEGORY\", geom from gtlab.sk_mchu_sps_sopsr where \"CATEGORY\" not in (6,7)\n",
    "    \n",
    "    \"\"\"\n",
    "    q3 = 'select gml_id, \"SITETITLE_SK\", \"SITETITLE_EN\" nm_en, \"CATEGORY\", geom from gtlab.sk_vchu_lps_sopsr'\n",
    "    df_vgl = pd.read_sql(q1, con=con1)\n",
    "    df_mchu = pd.read_sql(q2, con=con1)\n",
    "    df_vchu = pd.read_sql(q3, con=con1)\n",
    "    con1.close()\n",
    "    \n"
   ]
  },
  {
   "cell_type": "code",
   "execution_count": 2,
   "id": "839c2557",
   "metadata": {},
   "outputs": [],
   "source": [
    "from modules import get_sopsr_ids\n",
    "#get_sopsr_ids.get_sopsr_id_mchu_cat1(df_vgl)\n",
    "#get_sopsr_ids.get_sopsr_id_mchu_cat2(df_vgl)\n",
    "#get_sopsr_ids.get_sopsr_id_mchu_cat3(df_vgl)\n",
    "#get_sopsr_ids.get_sopsr_id_mchu_cat4(df_vgl)\n",
    "#get_sopsr_ids.get_sopsr_id_mchu_cat5(df_vgl)\n",
    "#get_sopsr_ids.get_sopsr_id_mchu_cat6(df_vgl)\n",
    "#get_sopsr_ids.get_sopsr_id_mchu_cat7(df_vgl)\n",
    "\n",
    "#get_sopsr_ids.get_sopsr_id_vchu_cat8(df_vgl)\n",
    "#get_sopsr_ids.get_sopsr_id_vchu_cat9(df_vgl)\n",
    "#get_sopsr_ids.get_sopsr_id_vchu_cat10(df_vgl)\n",
    "\n",
    "#get_sopsr_ids.get_sopsr_id_np_w_pz(df_vgl)\n",
    "#get_sopsr_ids.get_sopsr_id_uev_teui(df_vgl)\n",
    "#get_sopsr_ids.get_sopsr_id_chvu_bpa(df_vgl)\n",
    "\n",
    "#get_sopsr_ids.get_sospr_mchu_by_name_penetration(df_vgl, df_mchu)\n",
    "get_sopsr_ids.measure_dist_vgl_mchu_by_name()\n",
    "\n",
    "\n"
   ]
  },
  {
   "cell_type": "code",
   "execution_count": null,
   "id": "91732a20",
   "metadata": {},
   "outputs": [],
   "source": []
  }
 ],
 "metadata": {
  "kernelspec": {
   "display_name": "Python 3 (ipykernel)",
   "language": "python",
   "name": "python3"
  },
  "language_info": {
   "codemirror_mode": {
    "name": "ipython",
    "version": 3
   },
   "file_extension": ".py",
   "mimetype": "text/x-python",
   "name": "python",
   "nbconvert_exporter": "python",
   "pygments_lexer": "ipython3",
   "version": "3.11.7"
  }
 },
 "nbformat": 4,
 "nbformat_minor": 5
}
